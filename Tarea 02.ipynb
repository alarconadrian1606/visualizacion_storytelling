{
 "cells": [
  {
   "cell_type": "code",
   "execution_count": 2,
   "metadata": {},
   "outputs": [],
   "source": [
    "import pandas as pd\n",
    "import ccy\n",
    "import numpy as np\n",
    "data = pd.read_excel('C:/Users/Adrián/Downloads/data_limpia_paises.xlsx')"
   ]
  },
  {
   "cell_type": "code",
   "execution_count": 21,
   "metadata": {},
   "outputs": [
    {
     "name": "stderr",
     "output_type": "stream",
     "text": [
      "C:\\Users\\ADRIN~1\\AppData\\Local\\Temp/ipykernel_21104/3302482922.py:4: SettingWithCopyWarning: \n",
      "A value is trying to be set on a copy of a slice from a DataFrame.\n",
      "Try using .loc[row_indexer,col_indexer] = value instead\n",
      "\n",
      "See the caveats in the documentation: https://pandas.pydata.org/pandas-docs/stable/user_guide/indexing.html#returning-a-view-versus-a-copy\n",
      "  data_moneda['real_currency'] = np.where((data_moneda['real_currency'] == 'AUD/NZD') & (data_moneda['Country']=='Australia'),'AUD',data_moneda['real_currency'])\n",
      "C:\\Users\\ADRIN~1\\AppData\\Local\\Temp/ipykernel_21104/3302482922.py:5: SettingWithCopyWarning: \n",
      "A value is trying to be set on a copy of a slice from a DataFrame.\n",
      "Try using .loc[row_indexer,col_indexer] = value instead\n",
      "\n",
      "See the caveats in the documentation: https://pandas.pydata.org/pandas-docs/stable/user_guide/indexing.html#returning-a-view-versus-a-copy\n",
      "  data_moneda['real_currency'] = np.where((data_moneda['real_currency'] == 'AUD/NZD') ,'NZD',data_moneda['real_currency'])\n"
     ]
    }
   ],
   "source": [
    "data['real_currency'] = np.where(data['Currency']=='Other',data['Currency - other'],data['Currency'])\n",
    "currency_list = list(dict(ccy.currencydb()).keys())\n",
    "data_moneda = data[data['real_currency'].isin(currency_list)]\n",
    "data_moneda['real_currency'] = np.where((data_moneda['real_currency'] == 'AUD/NZD') & (data_moneda['Country']=='Australia'),'AUD',data_moneda['real_currency'])\n",
    "data_moneda['real_currency'] = np.where((data_moneda['real_currency'] == 'AUD/NZD') ,'NZD',data_moneda['real_currency'])\n"
   ]
  },
  {
   "cell_type": "code",
   "execution_count": 24,
   "metadata": {},
   "outputs": [],
   "source": [
    "import requests\n",
    "from tkinter import *\n",
    "import tkinter as tk\n",
    "from tkinter import ttk\n",
    "class RealTimeCurrencyConverter():\n",
    "    def __init__(self,url):\n",
    "        self.data= requests.get(url).json()\n",
    "        self.currencies = self.data['rates']\n",
    "\n",
    "    def convert(self, from_currency, to_currency, amount): \n",
    "        initial_amount = amount \n",
    "        #first convert it into USD if it is not in USD.\n",
    "        # because our base currency is USD\n",
    "        if from_currency != 'COP' : \n",
    "            amount = amount / self.currencies[from_currency] \n",
    "\n",
    "  \n",
    "    # limiting the precision to 4 decimal places \n",
    "        amount = round(amount * self.currencies[to_currency], 4) \n",
    "        return amount\n",
    "url = 'https://api.exchangerate-api.com/v4/latest/COP'\n",
    "converter = RealTimeCurrencyConverter(url)\n",
    "\n"
   ]
  },
  {
   "cell_type": "code",
   "execution_count": 10,
   "metadata": {},
   "outputs": [
    {
     "data": {
      "text/plain": [
       "0.000357"
      ]
     },
     "execution_count": 10,
     "metadata": {},
     "output_type": "execute_result"
    }
   ],
   "source": [
    "requests.get(url).json()['rates']['NZD']\n",
    "requests.get(url).json()['rates']['AUD']"
   ]
  },
  {
   "cell_type": "code",
   "execution_count": 50,
   "metadata": {},
   "outputs": [
    {
     "name": "stderr",
     "output_type": "stream",
     "text": [
      "C:\\Users\\ADRIN~1\\AppData\\Local\\Temp/ipykernel_21104/2002701486.py:15: SettingWithCopyWarning: \n",
      "A value is trying to be set on a copy of a slice from a DataFrame.\n",
      "Try using .loc[row_indexer,col_indexer] = value instead\n",
      "\n",
      "See the caveats in the documentation: https://pandas.pydata.org/pandas-docs/stable/user_guide/indexing.html#returning-a-view-versus-a-copy\n",
      "  data_moneda['salario_anual_cop'] = salario_anual_cop\n",
      "C:\\Users\\ADRIN~1\\AppData\\Local\\Temp/ipykernel_21104/2002701486.py:16: SettingWithCopyWarning: \n",
      "A value is trying to be set on a copy of a slice from a DataFrame.\n",
      "Try using .loc[row_indexer,col_indexer] = value instead\n",
      "\n",
      "See the caveats in the documentation: https://pandas.pydata.org/pandas-docs/stable/user_guide/indexing.html#returning-a-view-versus-a-copy\n",
      "  data_moneda['compensaciones_cop'] = other_comp_cop\n",
      "C:\\Users\\ADRIN~1\\AppData\\Local\\Temp/ipykernel_21104/2002701486.py:17: SettingWithCopyWarning: \n",
      "A value is trying to be set on a copy of a slice from a DataFrame.\n",
      "Try using .loc[row_indexer,col_indexer] = value instead\n",
      "\n",
      "See the caveats in the documentation: https://pandas.pydata.org/pandas-docs/stable/user_guide/indexing.html#returning-a-view-versus-a-copy\n",
      "  data_moneda['total_comp'] = data_moneda['salario_anual_cop'] + data_moneda['compensaciones_cop']\n"
     ]
    }
   ],
   "source": [
    "salario_anual_cop = []\n",
    "other_comp_cop = []\n",
    "real_currency = list(data_moneda['real_currency'])\n",
    "annual_salary = list(data_moneda['Annual salary'])\n",
    "other_monetary = list(data_moneda['Other monetary comp'])\n",
    "\n",
    "for i in range(0,len(real_currency)):\n",
    "\n",
    "    cambio = converter.convert(real_currency[i],'COP',annual_salary[i])\n",
    "    other_cambio = converter.convert(real_currency[i],'COP',other_monetary[i])\n",
    "    salario_anual_cop.append(cambio)\n",
    "    other_comp_cop.append(other_cambio)\n",
    "\n",
    "\n",
    "data_moneda['salario_anual_cop'] = salario_anual_cop\n",
    "data_moneda['compensaciones_cop'] = other_comp_cop\n",
    "data_moneda['total_comp'] = data_moneda['salario_anual_cop'] + data_moneda['compensaciones_cop']"
   ]
  },
  {
   "cell_type": "code",
   "execution_count": 52,
   "metadata": {},
   "outputs": [],
   "source": [
    "data_moneda.to_excel('C:/Users/Adrián/Downloads/data_limpia_uniandes.xlsx')"
   ]
  }
 ],
 "metadata": {
  "interpreter": {
   "hash": "cfdc32e3c67c4a1b26e825e4c14aba8d3a92ccd7b5ef990992fe484bf673f316"
  },
  "kernelspec": {
   "display_name": "Python 3.9.6 64-bit (system)",
   "language": "python",
   "name": "python3"
  },
  "language_info": {
   "codemirror_mode": {
    "name": "ipython",
    "version": 3
   },
   "file_extension": ".py",
   "mimetype": "text/x-python",
   "name": "python",
   "nbconvert_exporter": "python",
   "pygments_lexer": "ipython3",
   "version": "3.9.6"
  },
  "orig_nbformat": 4
 },
 "nbformat": 4,
 "nbformat_minor": 2
}
